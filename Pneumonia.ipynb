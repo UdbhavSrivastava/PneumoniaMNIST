{
 "cells": [
  {
   "cell_type": "code",
   "execution_count": 1,
   "metadata": {
    "colab": {
     "base_uri": "https://localhost:8080/"
    },
    "id": "S2FHMCXFtIXb",
    "outputId": "e6c83c54-1378-44b3-f3d7-77dffe2fb179"
   },
   "outputs": [
    {
     "name": "stdout",
     "output_type": "stream",
     "text": [
      "Requirement already satisfied: libauc==1.2.0 in /Users/sreeshreddy/opt/anaconda3/lib/python3.9/site-packages (1.2.0)\n",
      "Requirement already satisfied: torch>=1.2 in /Users/sreeshreddy/opt/anaconda3/lib/python3.9/site-packages (from libauc==1.2.0) (2.0.0)\n",
      "Requirement already satisfied: numpy in /Users/sreeshreddy/opt/anaconda3/lib/python3.9/site-packages (from libauc==1.2.0) (1.21.6)\n",
      "Requirement already satisfied: pandas in /Users/sreeshreddy/opt/anaconda3/lib/python3.9/site-packages (from libauc==1.2.0) (1.4.4)\n",
      "Requirement already satisfied: Pillow in /Users/sreeshreddy/opt/anaconda3/lib/python3.9/site-packages (from libauc==1.2.0) (9.0.1)\n",
      "Requirement already satisfied: scikit-learn in /Users/sreeshreddy/opt/anaconda3/lib/python3.9/site-packages (from libauc==1.2.0) (1.1.1)\n",
      "Requirement already satisfied: scikit-image in /Users/sreeshreddy/opt/anaconda3/lib/python3.9/site-packages (from libauc==1.2.0) (0.19.2)\n",
      "Requirement already satisfied: opencv-python in /Users/sreeshreddy/opt/anaconda3/lib/python3.9/site-packages (from libauc==1.2.0) (4.7.0.72)\n",
      "Requirement already satisfied: filelock in /Users/sreeshreddy/opt/anaconda3/lib/python3.9/site-packages (from torch>=1.2->libauc==1.2.0) (3.6.0)\n",
      "Requirement already satisfied: typing-extensions in /Users/sreeshreddy/opt/anaconda3/lib/python3.9/site-packages (from torch>=1.2->libauc==1.2.0) (4.1.1)\n",
      "Requirement already satisfied: sympy in /Users/sreeshreddy/opt/anaconda3/lib/python3.9/site-packages (from torch>=1.2->libauc==1.2.0) (1.10.1)\n",
      "Requirement already satisfied: networkx in /Users/sreeshreddy/opt/anaconda3/lib/python3.9/site-packages (from torch>=1.2->libauc==1.2.0) (2.7.1)\n",
      "Requirement already satisfied: jinja2 in /Users/sreeshreddy/opt/anaconda3/lib/python3.9/site-packages (from torch>=1.2->libauc==1.2.0) (3.0.1)\n",
      "Requirement already satisfied: python-dateutil>=2.8.1 in /Users/sreeshreddy/opt/anaconda3/lib/python3.9/site-packages (from pandas->libauc==1.2.0) (2.8.2)\n",
      "Requirement already satisfied: pytz>=2020.1 in /Users/sreeshreddy/opt/anaconda3/lib/python3.9/site-packages (from pandas->libauc==1.2.0) (2021.3)\n",
      "Requirement already satisfied: scipy>=1.4.1 in /Users/sreeshreddy/opt/anaconda3/lib/python3.9/site-packages (from scikit-image->libauc==1.2.0) (1.10.1)\n",
      "Requirement already satisfied: imageio>=2.4.1 in /Users/sreeshreddy/opt/anaconda3/lib/python3.9/site-packages (from scikit-image->libauc==1.2.0) (2.9.0)\n",
      "Requirement already satisfied: tifffile>=2019.7.26 in /Users/sreeshreddy/opt/anaconda3/lib/python3.9/site-packages (from scikit-image->libauc==1.2.0) (2021.7.2)\n",
      "Requirement already satisfied: PyWavelets>=1.1.1 in /Users/sreeshreddy/opt/anaconda3/lib/python3.9/site-packages (from scikit-image->libauc==1.2.0) (1.3.0)\n",
      "Requirement already satisfied: packaging>=20.0 in /Users/sreeshreddy/opt/anaconda3/lib/python3.9/site-packages (from scikit-image->libauc==1.2.0) (21.3)\n",
      "Requirement already satisfied: joblib>=1.0.0 in /Users/sreeshreddy/opt/anaconda3/lib/python3.9/site-packages (from scikit-learn->libauc==1.2.0) (1.1.1)\n",
      "Requirement already satisfied: threadpoolctl>=2.0.0 in /Users/sreeshreddy/opt/anaconda3/lib/python3.9/site-packages (from scikit-learn->libauc==1.2.0) (2.2.0)\n",
      "Requirement already satisfied: pyparsing!=3.0.5,>=2.0.2 in /Users/sreeshreddy/opt/anaconda3/lib/python3.9/site-packages (from packaging>=20.0->scikit-image->libauc==1.2.0) (3.0.4)\n",
      "Requirement already satisfied: six>=1.5 in /Users/sreeshreddy/opt/anaconda3/lib/python3.9/site-packages (from python-dateutil>=2.8.1->pandas->libauc==1.2.0) (1.16.0)\n",
      "Requirement already satisfied: MarkupSafe>=2.0 in /Users/sreeshreddy/opt/anaconda3/lib/python3.9/site-packages (from jinja2->torch>=1.2->libauc==1.2.0) (2.0.1)\n",
      "Requirement already satisfied: mpmath>=0.19 in /Users/sreeshreddy/opt/anaconda3/lib/python3.9/site-packages (from sympy->torch>=1.2->libauc==1.2.0) (1.2.1)\n",
      "Requirement already satisfied: medmnist in /Users/sreeshreddy/opt/anaconda3/lib/python3.9/site-packages (2.2.1)\n",
      "Requirement already satisfied: numpy in /Users/sreeshreddy/opt/anaconda3/lib/python3.9/site-packages (from medmnist) (1.21.6)\n",
      "Requirement already satisfied: pandas in /Users/sreeshreddy/opt/anaconda3/lib/python3.9/site-packages (from medmnist) (1.4.4)\n",
      "Requirement already satisfied: scikit-learn in /Users/sreeshreddy/opt/anaconda3/lib/python3.9/site-packages (from medmnist) (1.1.1)\n",
      "Requirement already satisfied: scikit-image in /Users/sreeshreddy/opt/anaconda3/lib/python3.9/site-packages (from medmnist) (0.19.2)\n",
      "Requirement already satisfied: tqdm in /Users/sreeshreddy/opt/anaconda3/lib/python3.9/site-packages (from medmnist) (4.64.0)\n",
      "Requirement already satisfied: Pillow in /Users/sreeshreddy/opt/anaconda3/lib/python3.9/site-packages (from medmnist) (9.0.1)\n",
      "Requirement already satisfied: fire in /Users/sreeshreddy/opt/anaconda3/lib/python3.9/site-packages (from medmnist) (0.5.0)\n",
      "Requirement already satisfied: torch in /Users/sreeshreddy/opt/anaconda3/lib/python3.9/site-packages (from medmnist) (2.0.0)\n",
      "Requirement already satisfied: torchvision in /Users/sreeshreddy/opt/anaconda3/lib/python3.9/site-packages (from medmnist) (0.15.1)\n",
      "Requirement already satisfied: six in /Users/sreeshreddy/opt/anaconda3/lib/python3.9/site-packages (from fire->medmnist) (1.16.0)\n",
      "Requirement already satisfied: termcolor in /Users/sreeshreddy/opt/anaconda3/lib/python3.9/site-packages (from fire->medmnist) (2.2.0)\n",
      "Requirement already satisfied: python-dateutil>=2.8.1 in /Users/sreeshreddy/opt/anaconda3/lib/python3.9/site-packages (from pandas->medmnist) (2.8.2)\n",
      "Requirement already satisfied: pytz>=2020.1 in /Users/sreeshreddy/opt/anaconda3/lib/python3.9/site-packages (from pandas->medmnist) (2021.3)\n",
      "Requirement already satisfied: scipy>=1.4.1 in /Users/sreeshreddy/opt/anaconda3/lib/python3.9/site-packages (from scikit-image->medmnist) (1.10.1)\n",
      "Requirement already satisfied: networkx>=2.2 in /Users/sreeshreddy/opt/anaconda3/lib/python3.9/site-packages (from scikit-image->medmnist) (2.7.1)\n",
      "Requirement already satisfied: imageio>=2.4.1 in /Users/sreeshreddy/opt/anaconda3/lib/python3.9/site-packages (from scikit-image->medmnist) (2.9.0)\n",
      "Requirement already satisfied: tifffile>=2019.7.26 in /Users/sreeshreddy/opt/anaconda3/lib/python3.9/site-packages (from scikit-image->medmnist) (2021.7.2)\n",
      "Requirement already satisfied: PyWavelets>=1.1.1 in /Users/sreeshreddy/opt/anaconda3/lib/python3.9/site-packages (from scikit-image->medmnist) (1.3.0)\n",
      "Requirement already satisfied: packaging>=20.0 in /Users/sreeshreddy/opt/anaconda3/lib/python3.9/site-packages (from scikit-image->medmnist) (21.3)\n",
      "Requirement already satisfied: joblib>=1.0.0 in /Users/sreeshreddy/opt/anaconda3/lib/python3.9/site-packages (from scikit-learn->medmnist) (1.1.1)\n",
      "Requirement already satisfied: threadpoolctl>=2.0.0 in /Users/sreeshreddy/opt/anaconda3/lib/python3.9/site-packages (from scikit-learn->medmnist) (2.2.0)\n",
      "Requirement already satisfied: filelock in /Users/sreeshreddy/opt/anaconda3/lib/python3.9/site-packages (from torch->medmnist) (3.6.0)\n",
      "Requirement already satisfied: typing-extensions in /Users/sreeshreddy/opt/anaconda3/lib/python3.9/site-packages (from torch->medmnist) (4.1.1)\n",
      "Requirement already satisfied: sympy in /Users/sreeshreddy/opt/anaconda3/lib/python3.9/site-packages (from torch->medmnist) (1.10.1)\n",
      "Requirement already satisfied: jinja2 in /Users/sreeshreddy/opt/anaconda3/lib/python3.9/site-packages (from torch->medmnist) (3.0.1)\n",
      "Requirement already satisfied: requests in /Users/sreeshreddy/opt/anaconda3/lib/python3.9/site-packages (from torchvision->medmnist) (2.27.1)\n",
      "Requirement already satisfied: pyparsing!=3.0.5,>=2.0.2 in /Users/sreeshreddy/opt/anaconda3/lib/python3.9/site-packages (from packaging>=20.0->scikit-image->medmnist) (3.0.4)\n",
      "Requirement already satisfied: MarkupSafe>=2.0 in /Users/sreeshreddy/opt/anaconda3/lib/python3.9/site-packages (from jinja2->torch->medmnist) (2.0.1)\n",
      "Requirement already satisfied: urllib3<1.27,>=1.21.1 in /Users/sreeshreddy/opt/anaconda3/lib/python3.9/site-packages (from requests->torchvision->medmnist) (1.26.9)\n",
      "Requirement already satisfied: certifi>=2017.4.17 in /Users/sreeshreddy/opt/anaconda3/lib/python3.9/site-packages (from requests->torchvision->medmnist) (2022.12.7)\n",
      "Requirement already satisfied: charset-normalizer~=2.0.0 in /Users/sreeshreddy/opt/anaconda3/lib/python3.9/site-packages (from requests->torchvision->medmnist) (2.0.4)\n",
      "Requirement already satisfied: idna<4,>=2.5 in /Users/sreeshreddy/opt/anaconda3/lib/python3.9/site-packages (from requests->torchvision->medmnist) (3.3)\n",
      "Requirement already satisfied: mpmath>=0.19 in /Users/sreeshreddy/opt/anaconda3/lib/python3.9/site-packages (from sympy->torch->medmnist) (1.2.1)\n"
     ]
    }
   ],
   "source": [
    "# Install libAUC and medMNIST\n",
    "!pip install libauc==1.2.0\n",
    "!pip install medmnist"
   ]
  },
  {
   "cell_type": "code",
   "execution_count": 2,
   "metadata": {
    "id": "2ijm1bJttThI"
   },
   "outputs": [],
   "source": [
    "from tqdm import tqdm\n",
    "import numpy as np\n",
    "import torch\n",
    "import torch.nn as nn\n",
    "import torch.optim as optim\n",
    "import torch.utils.data as data\n",
    "import torchvision.transforms as transforms\n",
    "import medmnist\n",
    "from medmnist import INFO, Evaluator"
   ]
  },
  {
   "cell_type": "code",
   "execution_count": 3,
   "metadata": {
    "id": "zMCedDg0Zzbs"
   },
   "outputs": [],
   "source": [
    "## loading PneumoniaMNIST dataset\n",
    "\n",
    "#data_flag = 'pathmnist'\n",
    "data_flag = 'pneumoniamnist'\n",
    "download = True\n",
    "\n",
    "#NUM_EPOCHS = 3\n",
    "BATCH_SIZE = 64\n",
    "#lr = 0.001\n",
    "\n",
    "info = INFO[data_flag]\n",
    "task = info['task']\n",
    "n_channels = info['n_channels']\n",
    "n_classes = len(info['label'])\n",
    "\n",
    "DataClass = getattr(medmnist, info['python_class'])"
   ]
  },
  {
   "cell_type": "code",
   "execution_count": 4,
   "metadata": {
    "colab": {
     "base_uri": "https://localhost:8080/"
    },
    "id": "mXonz7Y3tVbI",
    "outputId": "da3e78df-5b00-4f6c-f863-a7c11eb91f50"
   },
   "outputs": [
    {
     "name": "stdout",
     "output_type": "stream",
     "text": [
      "Using downloaded and verified file: /Users/sreeshreddy/.medmnist/pneumoniamnist.npz\n",
      "Using downloaded and verified file: /Users/sreeshreddy/.medmnist/pneumoniamnist.npz\n",
      "Using downloaded and verified file: /Users/sreeshreddy/.medmnist/pneumoniamnist.npz\n"
     ]
    }
   ],
   "source": [
    "# transformer definitions -- go here\n",
    "# default transformer\n",
    "\n",
    "\n",
    "## transfomer to experiment --  \n",
    "# the below is data --augmentation -- transformer\n",
    "transform_train = transforms.Compose([\n",
    "#   transforms.RandomHorizontalFlip(),\n",
    "#   transforms.RandomRotation(degrees=10),    \n",
    "    transforms.ToTensor(),\n",
    "    transforms.Normalize(mean=[0.5], std=[0.5])\n",
    "])\n",
    "\n",
    "transform_test = transforms.Compose([\n",
    "    transforms.ToTensor(),\n",
    "    transforms.Normalize(mean=[0.5], std=[0.5])\n",
    "])\n",
    "\n",
    "transform_val = transforms.Compose([\n",
    "    transforms.ToTensor(),\n",
    "    transforms.Normalize(mean=[0.5], std=[0.5])\n",
    "])\n",
    "\n",
    "# load the data\n",
    "train_dataset = DataClass(split='train', transform=transform_train, download=download)\n",
    "test_dataset = DataClass(split='test', transform=transform_test, download=download)\n",
    "val_dataset = DataClass(split='val', transform=transform_val, download=download)\n",
    "\n",
    "# encapsulate data into dataloader form\n",
    "train_loader = data.DataLoader(dataset=train_dataset, batch_size=BATCH_SIZE, shuffle=True)\n",
    "train_loader_at_eval = data.DataLoader(dataset=train_dataset, batch_size=2*BATCH_SIZE, shuffle=False)\n",
    "test_loader = data.DataLoader(dataset=test_dataset, batch_size=2*BATCH_SIZE, shuffle=False)\n",
    "val_loader = data.DataLoader(dataset=val_dataset, batch_size=2*BATCH_SIZE, shuffle=False)\n",
    "\n"
   ]
  },
  {
   "cell_type": "code",
   "execution_count": 5,
   "metadata": {
    "colab": {
     "base_uri": "https://localhost:8080/"
    },
    "id": "H7Vre9tyZ7PU",
    "outputId": "077dcc96-257a-447d-fc3a-b3dd6dc2af94"
   },
   "outputs": [
    {
     "name": "stdout",
     "output_type": "stream",
     "text": [
      "Dataset PneumoniaMNIST (pneumoniamnist)\n",
      "    Number of datapoints: 4708\n",
      "    Root location: /Users/sreeshreddy/.medmnist\n",
      "    Split: train\n",
      "    Task: binary-class\n",
      "    Number of channels: 1\n",
      "    Meaning of labels: {'0': 'normal', '1': 'pneumonia'}\n",
      "    Number of samples: {'train': 4708, 'val': 524, 'test': 624}\n",
      "    Description: The PneumoniaMNIST is based on a prior dataset of 5,856 pediatric chest X-Ray images. The task is binary-class classification of pneumonia against normal. We split the source training set with a ratio of 9:1 into training and validation set and use its source validation set as the test set. The source images are gray-scale, and their sizes are (384−2,916)×(127−2,713). We center-crop the images and resize them into 1×28×28.\n",
      "    License: CC BY 4.0\n",
      "===================\n",
      "Dataset PneumoniaMNIST (pneumoniamnist)\n",
      "    Number of datapoints: 624\n",
      "    Root location: /Users/sreeshreddy/.medmnist\n",
      "    Split: test\n",
      "    Task: binary-class\n",
      "    Number of channels: 1\n",
      "    Meaning of labels: {'0': 'normal', '1': 'pneumonia'}\n",
      "    Number of samples: {'train': 4708, 'val': 524, 'test': 624}\n",
      "    Description: The PneumoniaMNIST is based on a prior dataset of 5,856 pediatric chest X-Ray images. The task is binary-class classification of pneumonia against normal. We split the source training set with a ratio of 9:1 into training and validation set and use its source validation set as the test set. The source images are gray-scale, and their sizes are (384−2,916)×(127−2,713). We center-crop the images and resize them into 1×28×28.\n",
      "    License: CC BY 4.0\n"
     ]
    }
   ],
   "source": [
    "print(train_dataset)\n",
    "print(\"===================\")\n",
    "print(test_dataset)"
   ]
  },
  {
   "cell_type": "code",
   "execution_count": 6,
   "metadata": {
    "id": "TTg-OMBVZ9fU"
   },
   "outputs": [],
   "source": [
    "from torchvision.models import Weights\n",
    "# instantiate the ResNet-50 model and set it to training mode\n",
    "# model = ResNet50() --> yielded  low AUC and ACC on train and test data.\n",
    "# instantiate the ResNet-18 model[Single Channel] and set it to training mode --\n",
    "# added dropout and batch normalization as regularization methods.\n",
    "import torchvision\n",
    "model = torchvision.models.resnet18()\n",
    "# model = model.cuda()\n",
    "model.conv1 = nn.Conv2d(1, 64, kernel_size=7, stride=2, padding=3, bias=False)\n",
    "num_ftrs = model.fc.in_features\n",
    "model.fc = nn.Linear(num_ftrs, 2)\n",
    "\n",
    "\n",
    "\n",
    "from libauc.losses import AUCMLoss\n",
    "from libauc.optimizers import PESG\n",
    "\n",
    "SEED = 123\n",
    "BATCH_SIZE = 128\n",
    "imratio = 0.1 # for demo \n",
    "total_epochs = 10\n",
    "decay_epochs = [25, 50, 75]\n",
    "\n",
    "# Set new hyperparameters\n",
    "lr = 0.1  # Lower learning rate\n",
    "weight_decay = 0.01  # Decrease weight decay\n",
    "margin = 1.0\n",
    "loss_fn = AUCMLoss()\n",
    "\n",
    "# Set optimizer with new hyperparameters\n",
    "optimizer = PESG(model, \n",
    "                 loss_fn=loss_fn, \n",
    "                 momentum=0.8,\n",
    "                 margin=margin,\n",
    "                 epoch_deacy = 0.03,\n",
    "                 lr=lr)\n"
   ]
  },
  {
   "cell_type": "code",
   "execution_count": 7,
   "metadata": {
    "colab": {
     "base_uri": "https://localhost:8080/"
    },
    "id": "VplviviraImU",
    "outputId": "a138a94b-7010-40bc-f4bd-7f8e6aa6d51f"
   },
   "outputs": [
    {
     "name": "stdout",
     "output_type": "stream",
     "text": [
      "Training initiated\n",
      "***************\n"
     ]
    },
    {
     "name": "stderr",
     "output_type": "stream",
     "text": [
      "100%|███████████████████████████████████████████| 74/74 [00:36<00:00,  2.02it/s]\n"
     ]
    },
    {
     "name": "stdout",
     "output_type": "stream",
     "text": [
      "At epoch: 0, the train_loss: 4.5557, the train_auc: 0.9473, the val_auc: 0.9365, the test_auc: 0.9099, lr: 0.1000\n"
     ]
    },
    {
     "name": "stderr",
     "output_type": "stream",
     "text": [
      "100%|███████████████████████████████████████████| 74/74 [00:35<00:00,  2.06it/s]\n"
     ]
    },
    {
     "name": "stdout",
     "output_type": "stream",
     "text": [
      "At epoch: 1, the train_loss: 0.0526, the train_auc: 0.9644, the val_auc: 0.9655, the test_auc: 0.9215, lr: 0.1000\n"
     ]
    },
    {
     "name": "stderr",
     "output_type": "stream",
     "text": [
      "100%|███████████████████████████████████████████| 74/74 [00:34<00:00,  2.13it/s]\n"
     ]
    },
    {
     "name": "stdout",
     "output_type": "stream",
     "text": [
      "At epoch: 2, the train_loss: 0.0398, the train_auc: 0.9765, the val_auc: 0.9754, the test_auc: 0.9256, lr: 0.1000\n"
     ]
    },
    {
     "name": "stderr",
     "output_type": "stream",
     "text": [
      "100%|███████████████████████████████████████████| 74/74 [00:34<00:00,  2.12it/s]\n"
     ]
    },
    {
     "name": "stdout",
     "output_type": "stream",
     "text": [
      "At epoch: 3, the train_loss: 0.0336, the train_auc: 0.9791, the val_auc: 0.9762, the test_auc: 0.9246, lr: 0.1000\n"
     ]
    },
    {
     "name": "stderr",
     "output_type": "stream",
     "text": [
      "100%|███████████████████████████████████████████| 74/74 [00:35<00:00,  2.08it/s]\n"
     ]
    },
    {
     "name": "stdout",
     "output_type": "stream",
     "text": [
      "At epoch: 4, the train_loss: 0.0322, the train_auc: 0.9537, the val_auc: 0.9577, the test_auc: 0.9079, lr: 0.1000\n"
     ]
    },
    {
     "name": "stderr",
     "output_type": "stream",
     "text": [
      "100%|███████████████████████████████████████████| 74/74 [00:38<00:00,  1.92it/s]\n"
     ]
    },
    {
     "name": "stdout",
     "output_type": "stream",
     "text": [
      "At epoch: 5, the train_loss: 0.0270, the train_auc: 0.9859, the val_auc: 0.9851, the test_auc: 0.9232, lr: 0.1000\n"
     ]
    },
    {
     "name": "stderr",
     "output_type": "stream",
     "text": [
      "100%|███████████████████████████████████████████| 74/74 [00:37<00:00,  1.95it/s]\n"
     ]
    },
    {
     "name": "stdout",
     "output_type": "stream",
     "text": [
      "At epoch: 6, the train_loss: 0.0244, the train_auc: 0.9877, the val_auc: 0.9884, the test_auc: 0.9267, lr: 0.1000\n"
     ]
    },
    {
     "name": "stderr",
     "output_type": "stream",
     "text": [
      "100%|███████████████████████████████████████████| 74/74 [00:46<00:00,  1.58it/s]\n"
     ]
    },
    {
     "name": "stdout",
     "output_type": "stream",
     "text": [
      "At epoch: 7, the train_loss: 0.0217, the train_auc: 0.9880, the val_auc: 0.9880, the test_auc: 0.9245, lr: 0.1000\n"
     ]
    },
    {
     "name": "stderr",
     "output_type": "stream",
     "text": [
      "100%|███████████████████████████████████████████| 74/74 [00:44<00:00,  1.67it/s]\n"
     ]
    },
    {
     "name": "stdout",
     "output_type": "stream",
     "text": [
      "At epoch: 8, the train_loss: 0.0193, the train_auc: 0.9876, the val_auc: 0.9871, the test_auc: 0.9255, lr: 0.1000\n"
     ]
    },
    {
     "name": "stderr",
     "output_type": "stream",
     "text": [
      "100%|███████████████████████████████████████████| 74/74 [00:40<00:00,  1.82it/s]\n"
     ]
    },
    {
     "name": "stdout",
     "output_type": "stream",
     "text": [
      "At epoch: 9, the train_loss: 0.0191, the train_auc: 0.9912, the val_auc: 0.9911, the test_auc: 0.9216, lr: 0.1000\n"
     ]
    }
   ],
   "source": [
    "from sklearn.metrics import roc_auc_score\n",
    "\n",
    "from libauc.sampler import DualSampler\n",
    "from libauc.metrics import auc_roc_score\n",
    "\n",
    "\n",
    "print('Training initiated')\n",
    "print('*' * 15)\n",
    "\n",
    "train_log = []\n",
    "val_log = []\n",
    "test_log = []\n",
    "best_val_auc = 0\n",
    "patience = 15\n",
    "num_epochs_without_improvement = 0\n",
    "for epoch in range(total_epochs):\n",
    "\n",
    "    train_loss = []\n",
    "    model.train()\n",
    "    for data, targets in tqdm(train_loader):\n",
    "        y_pred = model(data)\n",
    "        loss = loss_fn(y_pred, targets)\n",
    "        optimizer.zero_grad()\n",
    "        loss.backward()\n",
    "        optimizer.step()\n",
    "        train_loss.append(loss.item())\n",
    "\n",
    "    # evaluation on train, validation, and test sets\n",
    "    model.eval()\n",
    "    train_pred_list = []\n",
    "    train_true_list = []\n",
    "    for train_data, train_targets in train_loader_at_eval:\n",
    "        train_pred = model(train_data)\n",
    "        train_pred_list.append(train_pred.cpu().detach().numpy())\n",
    "        train_true_list.append(train_targets.numpy())\n",
    "    train_true = np.concatenate(train_true_list)\n",
    "    train_pred = np.concatenate(train_pred_list)\n",
    "    train_auc = auc_roc_score(train_true, train_pred)\n",
    "    train_loss = np.mean(train_loss)\n",
    "\n",
    "    val_pred_list = []\n",
    "    val_true_list = []\n",
    "    for val_data, val_targets in val_loader:\n",
    "        val_pred = model(val_data)\n",
    "        val_pred_list.append(val_pred.cpu().detach().numpy())\n",
    "        val_true_list.append(val_targets.numpy())\n",
    "    val_true = np.concatenate(val_true_list)\n",
    "    val_pred = np.concatenate(val_pred_list)\n",
    "    val_auc = auc_roc_score(val_true, val_pred)\n",
    "\n",
    "    test_pred_list = []\n",
    "    test_true_list = []\n",
    "    for test_data, test_targets in test_loader:\n",
    "        test_pred = model(test_data)\n",
    "        test_pred_list.append(test_pred.cpu().detach().numpy())\n",
    "        test_true_list.append(test_targets.numpy())\n",
    "    test_true = np.concatenate(test_true_list)\n",
    "    test_pred = np.concatenate(test_pred_list)\n",
    "    test_auc = auc_roc_score(test_true, test_pred)\n",
    "    model.train()\n",
    "\n",
    "    # print results\n",
    "    print(\"At epoch: %s, the train_loss: %.4f, the train_auc: %.4f, the val_auc: %.4f, the test_auc: %.4f, lr: %.4f\" % (\n",
    "        epoch, train_loss, train_auc[0], val_auc[0], test_auc[0], optimizer.lr))\n",
    "    train_log.append(train_auc[0])\n",
    "    val_log.append(val_auc[0])\n",
    "    test_log.append(test_auc[0])\n",
    "\n",
    "    # check for improvement in validation AUC and update early stopping counter\n",
    "    if val_auc[0] > best_val_auc:\n",
    "        best_val_auc = val_auc[0]\n",
    "        best_test_auc = test_auc[0]\n",
    "        torch.save(model, 'saved_model/best-model-Pn1.pt')\n",
    "        num_epochs_without_improvement = 0\n",
    "    else:\n",
    "        num_epochs_without_improvement += 1\n",
    "\n",
    "    # check if early stopping criteria is met\n",
    "    if num_epochs_without_improvement >= patience:\n",
    "        print(f'No improvement for {patience} epochs. Stopping early.')\n",
    "        break\n"
   ]
  },
  {
   "cell_type": "code",
   "execution_count": 8,
   "metadata": {
    "colab": {
     "base_uri": "https://localhost:8080/",
     "height": 449
    },
    "id": "mD9I83UdaOb0",
    "outputId": "b380c634-c608-47c6-dfe3-494a6ca3c049"
   },
   "outputs": [
    {
     "data": {
      "image/png": "[encoded data removed]",
      "text/plain": [
       "<Figure size 432x288 with 1 Axes>"
      ]
     },
     "metadata": {
      "needs_background": "light"
     },
     "output_type": "display_data"
    }
   ],
   "source": [
    "import matplotlib.pyplot as plt\n",
    "\n",
    "plt.plot(train_log, label='Training AUC')\n",
    "plt.plot(test_log, label='Testing AUC')\n",
    "plt.xlabel('Epochs')\n",
    "plt.ylabel('AUC')\n",
    "plt.legend()\n",
    "plt.grid()\n",
    "plt.show()\n"
   ]
  },
  {
   "cell_type": "code",
   "execution_count": 9,
   "metadata": {
    "colab": {
     "base_uri": "https://localhost:8080/"
    },
    "id": "lVJz3Ly-9uxG",
    "outputId": "f52ac0c6-0d0b-4b0c-a178-ca081e01697a"
   },
   "outputs": [
    {
     "name": "stdout",
     "output_type": "stream",
     "text": [
      "The Final Train AUC: 0.991201909793112\n",
      "The Final Test AUC: 0.9215976331360947\n"
     ]
    }
   ],
   "source": [
    "print(\"The Final Train AUC:\", train_log[-1])\n",
    "print(\"The Final Test AUC:\", test_log[-1])\n"
   ]
  },
  {
   "cell_type": "code",
   "execution_count": 10,
   "metadata": {},
   "outputs": [
    {
     "name": "stdout",
     "output_type": "stream",
     "text": [
      "The best test auc obtained for the PneumoniaMNIST dataset is: 0.9215976331360947\n"
     ]
    }
   ],
   "source": [
    "print(\"The best test auc obtained for the PneumoniaMNIST dataset is:\", best_test_auc)"
   ]
  }
 ],
 "metadata": {
  "colab": {
   "gpuType": "T4",
   "provenance": []
  },
  "gpuClass": "standard",
  "kernelspec": {
   "display_name": "Python 3 (ipykernel)",
   "language": "python",
   "name": "python3"
  },
  "language_info": {
   "codemirror_mode": {
    "name": "ipython",
    "version": 3
   },
   "file_extension": ".py",
   "mimetype": "text/x-python",
   "name": "python",
   "nbconvert_exporter": "python",
   "pygments_lexer": "ipython3",
   "version": "3.9.12"
  }
 },
 "nbformat": 4,
 "nbformat_minor": 1
}
